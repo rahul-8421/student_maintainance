{
 "cells": [
  {
   "cell_type": "code",
   "execution_count": null,
   "id": "0c4ce04f-df9c-45d8-b905-ea195fe8114d",
   "metadata": {},
   "outputs": [
    {
     "name": "stdout",
     "output_type": "stream",
     "text": [
      "\n",
      "Student Management System\n",
      "1. Add Student\n",
      "2. Display Students\n",
      "3. Search Student\n",
      "4. Delete Student\n",
      "5. Exit\n"
     ]
    },
    {
     "name": "stdin",
     "output_type": "stream",
     "text": [
      "Enter your choice:  1\n",
      "Enter student roll number:  18\n",
      "Enter student name:  rahul kumar\n",
      "Enter student marks1:  88\n",
      "Enter student marks2:  90\n"
     ]
    },
    {
     "name": "stdout",
     "output_type": "stream",
     "text": [
      "Student with roll number 18 added successfully!\n",
      "\n",
      "Student Management System\n",
      "1. Add Student\n",
      "2. Display Students\n",
      "3. Search Student\n",
      "4. Delete Student\n",
      "5. Exit\n"
     ]
    },
    {
     "name": "stdin",
     "output_type": "stream",
     "text": [
      "Enter your choice:  2\n"
     ]
    },
    {
     "name": "stdout",
     "output_type": "stream",
     "text": [
      "\n",
      "Student Records:\n",
      "Roll Number: 18\n",
      "Name: rahul kumar\n",
      "Marks1: 88.0\n",
      "Marks2: 90.0\n",
      "------------------------------\n",
      "\n",
      "Student Management System\n",
      "1. Add Student\n",
      "2. Display Students\n",
      "3. Search Student\n",
      "4. Delete Student\n",
      "5. Exit\n"
     ]
    },
    {
     "name": "stdin",
     "output_type": "stream",
     "text": [
      "Enter your choice:  3\n",
      "Enter student roll number to search:  18\n"
     ]
    },
    {
     "name": "stdout",
     "output_type": "stream",
     "text": [
      "Student Found:\n",
      "Roll Number: 18\n",
      "Name: rahul kumar\n",
      "Marks1: 88.0\n",
      "Marks2: 90.0\n",
      "\n",
      "Student Management System\n",
      "1. Add Student\n",
      "2. Display Students\n",
      "3. Search Student\n",
      "4. Delete Student\n",
      "5. Exit\n"
     ]
    },
    {
     "name": "stdin",
     "output_type": "stream",
     "text": [
      "Enter your choice:  4\n",
      "Enter student roll number to delete:  18\n"
     ]
    },
    {
     "name": "stdout",
     "output_type": "stream",
     "text": [
      "Student with roll number 18 deleted successfully!\n",
      "\n",
      "Student Management System\n",
      "1. Add Student\n",
      "2. Display Students\n",
      "3. Search Student\n",
      "4. Delete Student\n",
      "5. Exit\n"
     ]
    },
    {
     "name": "stdin",
     "output_type": "stream",
     "text": [
      "Enter your choice:  2\n"
     ]
    },
    {
     "name": "stdout",
     "output_type": "stream",
     "text": [
      "\n",
      "Student Records:\n",
      "\n",
      "Student Management System\n",
      "1. Add Student\n",
      "2. Display Students\n",
      "3. Search Student\n",
      "4. Delete Student\n",
      "5. Exit\n"
     ]
    }
   ],
   "source": [
    "# Initialize an empty dictionary to store student records\n",
    "student_records = {}\n",
    "\n",
    "# Function to add a student to the system\n",
    "def add_student():\n",
    "    roll_no = int(input(\"Enter student roll number: \"))\n",
    "    name = input(\"Enter student name: \")\n",
    "    marks1 = float(input(\"Enter student marks1: \"))\n",
    "    marks2 = float(input(\"Enter student marks2: \"))\n",
    "    \n",
    "    # Store the student information in the dictionary\n",
    "    student_records[roll_no] = {'name': name, 'marks1': marks1 ,'marks2':marks2}\n",
    "    print(f\"Student with roll number {roll_no} added successfully!\")\n",
    "\n",
    "# Function to display all students\n",
    "def display_students():\n",
    "    print(\"\\nStudent Records:\")\n",
    "    for roll_no, student_info in student_records.items():\n",
    "        print(f\"Roll Number: {roll_no}\")\n",
    "        print(f\"Name: {student_info['name']}\")\n",
    "        print(f\"Marks1: {student_info['marks1']}\")\n",
    "        print(f\"Marks2: {student_info['marks2']}\")\n",
    "        print('-' * 30)\n",
    "\n",
    "# Function to search for a student by roll number\n",
    "def search_student():\n",
    "    roll_no = int(input(\"Enter student roll number to search: \"))\n",
    "    if roll_no in student_records:\n",
    "        student_info = student_records[roll_no]\n",
    "        print(f\"Student Found:\")\n",
    "        print(f\"Roll Number: {roll_no}\")\n",
    "        print(f\"Name: {student_info['name']}\")\n",
    "        print(f\"Marks1: {student_info['marks1']}\")\n",
    "        print(f\"Marks2: {student_info['marks2']}\")\n",
    "    else:\n",
    "        print(f\"Student with roll number {roll_no} not found!\")\n",
    "# Function to delete a student by roll number\n",
    "def delete_student():\n",
    "    roll_no = int(input(\"Enter student roll number to delete: \"))\n",
    "    if roll_no in student_records:\n",
    "        del student_records[roll_no]\n",
    "        print(f\"Student with roll number {roll_no} deleted successfully!\")\n",
    "    else:\n",
    "        print(f\"Student with roll number {roll_no} not found!\")\n",
    "\n",
    "# Main program loop\n",
    "while True:\n",
    "    print(\"\\nStudent Management System\")\n",
    "    print(\"1. Add Student\")\n",
    "    print(\"2. Display Students\")\n",
    "    print(\"3. Search Student\")\n",
    "    print(\"4. Delete Student\")\n",
    "    print(\"5. Exit\")\n",
    "    \n",
    "    choice = input(\"Enter your choice: \")\n",
    "    \n",
    "    if choice == '1':\n",
    "        add_student()\n",
    "    elif choice == '2':\n",
    "        display_students()\n",
    "    elif choice == '3':\n",
    "        search_student()\n",
    "    elif choice == '4':\n",
    "        delete_student()\n",
    "    elif choice == '5':\n",
    "        break\n",
    "    else:\n",
    "        print(\"Invalid choice. Please try again.\")"
   ]
  },
  {
   "cell_type": "code",
   "execution_count": null,
   "id": "020ddde7-824a-436d-86c6-1c9559642da8",
   "metadata": {},
   "outputs": [],
   "source": []
  }
 ],
 "metadata": {
  "kernelspec": {
   "display_name": "Python 3 (ipykernel)",
   "language": "python",
   "name": "python3"
  },
  "language_info": {
   "codemirror_mode": {
    "name": "ipython",
    "version": 3
   },
   "file_extension": ".py",
   "mimetype": "text/x-python",
   "name": "python",
   "nbconvert_exporter": "python",
   "pygments_lexer": "ipython3",
   "version": "3.11.4"
  }
 },
 "nbformat": 4,
 "nbformat_minor": 5
}
